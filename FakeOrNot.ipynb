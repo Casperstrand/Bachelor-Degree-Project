{
 "cells": [
  {
   "cell_type": "code",
   "execution_count": 1,
   "metadata": {},
   "outputs": [],
   "source": [
    "import pandas as pd\n",
    "import nltk\n",
    "import string\n",
    "from sklearn.feature_extraction.text import CountVectorizer, TfidfVectorizer\n",
    "from sklearn import model_selection, svm\n",
    "from sklearn.metrics import accuracy_score\n",
    "\n",
    "stopwords = nltk.corpus.stopwords.words('english')\n",
    "lemmetizer = nltk.WordNetLemmatizer()\n",
    "\n",
    "def remove_stop_words(text):\n",
    "    text = [w for w in text if w.lower() not in stopwords]\n",
    "    return text\n",
    "\n",
    "def lemmetize_words(word_list):\n",
    "    lemmetized = [lemmetizer.lemmatize(w) for w in word_list]\n",
    "    return lemmetized\n",
    "\n",
    "def remove_special_characters(text):\n",
    "    text = [w for w in text if w.isalnum()]\n",
    "    return text\n",
    "\n",
    "def remove_non_english_words(text):\n",
    "    printable = set(string.printable)\n",
    "    return [word for word in text \n",
    "            if all(char in printable for char in word)]\n",
    "\n",
    "def fix_text(row):\n",
    "    return ' '.join(row)\n",
    "\n",
    "df = pd.read_csv('amazon_cells_labelled.txt', sep=\"\\t\", header=None, engine='python')\n",
    "df = df.rename(columns={0: 'text', 1: 'label'})\n",
    "df = df.dropna()\n",
    "df['final_text'] = df['text'].apply(nltk.word_tokenize)\n",
    "df['final_text'] = df['final_text'].apply(remove_special_characters)\n",
    "df['final_text'] = df['final_text'].apply(remove_non_english_words)\n",
    "df['final_text'] = df['final_text'].apply(remove_stop_words)\n",
    "df['final_text'] = df['final_text'].apply(lemmetize_words)\n",
    "df['final_text'] = df['final_text'].apply(fix_text)\n",
    "\n",
    "train_x, test_x, train_y, test_y = model_selection.train_test_split(df['final_text'], df['label'], test_size=0.2)"
   ]
  },
  {
   "cell_type": "code",
   "execution_count": 3,
   "metadata": {},
   "outputs": [],
   "source": [
    "tfidvect = TfidfVectorizer(max_features=5000)\n",
    "tfidvect.fit(df['final_text'])\n",
    "train_x_tfidf = tfidvect.transform(train_x)\n",
    "test_x_tfidf = tfidvect.transform(test_x)"
   ]
  },
  {
   "cell_type": "code",
   "execution_count": 4,
   "metadata": {},
   "outputs": [
    {
     "data": {
      "text/plain": [
       "0.79"
      ]
     },
     "execution_count": 4,
     "metadata": {},
     "output_type": "execute_result"
    }
   ],
   "source": [
    "model = svm.SVC()\n",
    "model.fit(train_x_tfidf, train_y)\n",
    "pred = model.predict(test_x_tfidf)\n",
    "accuracy_score(pred, test_y)"
   ]
  },
  {
   "cell_type": "code",
   "execution_count": 7,
   "metadata": {},
   "outputs": [
    {
     "data": {
      "text/plain": [
       "(168, 832)"
      ]
     },
     "execution_count": 7,
     "metadata": {},
     "output_type": "execute_result"
    }
   ],
   "source": [
    "import tweepy\n",
    "import config\n",
    "import re\n",
    "\n",
    "consumer_key = config.api_key\n",
    "consumer_secret = config.api_secrets\n",
    "access_token = config.access_token\n",
    "access_token_secret = config.access_secret\n",
    "bearer_token = config.bearer_token\n",
    "\n",
    "try:\n",
    "    api = tweepy.Client(bearer_token=bearer_token)\n",
    "except:\n",
    "    print(\"Error: Authentication Failed\")\n",
    "\n",
    "def clean_text(text):\n",
    "     return ' '.join(re.sub(\"(@[A-Za-z0-9]+)|([^0-9A-Za-z \\t])(\\w+:\\/\\/\\S+)\", \" \", text).split())   \n",
    "\n",
    "tweets = tweepy.Paginator(api.search_recent_tweets , \"Donald Trump\", max_results = 100).flatten(limit=1000)\n",
    "    \n",
    "def count(list):\n",
    "    positive_count = 0\n",
    "    negative_count = 0\n",
    "    for line in list:\n",
    "        if model.predict(tfidvect.transform([clean_text(line.text)])) == 0:\n",
    "            negative_count += 1\n",
    "        elif model.predict(tfidvect.transform([clean_text(line.text)])) == 1:\n",
    "            positive_count += 1\n",
    "\n",
    "    return positive_count, negative_count\n",
    "\n",
    "count(tweets)\n",
    "#comment change"
   ]
  }
 ],
 "metadata": {
  "kernelspec": {
   "display_name": "Python 3.10.6 64-bit",
   "language": "python",
   "name": "python3"
  },
  "language_info": {
   "codemirror_mode": {
    "name": "ipython",
    "version": 3
   },
   "file_extension": ".py",
   "mimetype": "text/x-python",
   "name": "python",
   "nbconvert_exporter": "python",
   "pygments_lexer": "ipython3",
   "version": "3.10.6 (tags/v3.10.6:9c7b4bd, Aug  1 2022, 21:53:49) [MSC v.1932 64 bit (AMD64)]"
  },
  "orig_nbformat": 4,
  "vscode": {
   "interpreter": {
    "hash": "a8930fd93c0d0e39a0d4d9dd43e222c1e36af1b68c0e251fae90799f6ab1738d"
   }
  }
 },
 "nbformat": 4,
 "nbformat_minor": 2
}

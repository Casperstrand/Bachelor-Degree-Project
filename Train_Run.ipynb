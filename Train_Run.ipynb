{
 "cells": [
  {
   "cell_type": "code",
   "execution_count": null,
   "metadata": {},
   "outputs": [],
   "source": [
    "import pickle\n",
    "from english_model import EnglishModel\n",
    "from norwegian_model import NorwegianModel\n",
    "\n",
    "english = EnglishModel()\n",
    "norwegian = NorwegianModel()\n",
    "\n",
    "pickle.dump(english, open('English_Model.pkl', 'wb'))\n",
    "pickle.dump(norwegian, open('Norwegian_Model.pkl', 'wb'))"
   ]
  }
 ],
 "metadata": {
  "kernelspec": {
   "display_name": "Python 3",
   "language": "python",
   "name": "python3"
  },
  "language_info": {
   "codemirror_mode": {
    "name": "ipython",
    "version": 3
   },
   "file_extension": ".py",
   "mimetype": "text/x-python",
   "name": "python",
   "nbconvert_exporter": "python",
   "pygments_lexer": "ipython3",
   "version": "3.10.6"
  },
  "orig_nbformat": 4
 },
 "nbformat": 4,
 "nbformat_minor": 2
}

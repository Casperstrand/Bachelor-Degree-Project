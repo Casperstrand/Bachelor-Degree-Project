{
 "cells": [
  {
   "cell_type": "code",
   "execution_count": 2,
   "metadata": {},
   "outputs": [],
   "source": [
    "import pandas as pd\n",
    "import nltk\n",
    "import string\n",
    "from sklearn.feature_extraction.text import TfidfVectorizer\n",
    "from sklearn import model_selection, svm\n",
    "from sklearn.metrics import accuracy_score\n",
    "\n",
    "stopwords = nltk.corpus.stopwords.words('english')\n",
    "lemmetizer = nltk.WordNetLemmatizer()\n",
    "\n",
    "def remove_stop_words(text):\n",
    "    text = [w for w in text if w.lower() not in stopwords]\n",
    "    return text\n",
    "\n",
    "def lemmetize_words(word_list):\n",
    "    lemmetized = [lemmetizer.lemmatize(w) for w in word_list]\n",
    "    return lemmetized\n",
    "\n",
    "def remove_special_characters(text):\n",
    "    text = [w for w in text if w.isalnum()]\n",
    "    return text\n",
    "\n",
    "def remove_non_english_words(text):\n",
    "    printable = set(string.printable)\n",
    "    return [word for word in text \n",
    "            if all(char in printable for char in word)]\n",
    "\n",
    "def fix_text(row):\n",
    "    return ' '.join(row)\n",
    "\n",
    "df = pd.read_csv('IMDB Dataset.csv')\n",
    "df['sentiment'] = df.sentiment.astype('category')\n",
    "df = df.dropna()\n",
    "df['final_text'] = df['review'].apply(nltk.word_tokenize)\n",
    "df['final_text'] = df['final_text'].apply(remove_special_characters)\n",
    "df['final_text'] = df['final_text'].apply(remove_non_english_words)\n",
    "df['final_text'] = df['final_text'].apply(remove_stop_words)\n",
    "df['final_text'] = df['final_text'].apply(lemmetize_words)\n",
    "df['final_text'] = df['final_text'].apply(fix_text)\n",
    "\n",
    "train_x, test_x, train_y, test_y = model_selection.train_test_split(df['final_text'], df['sentiment'], test_size=0.2)"
   ]
  },
  {
   "cell_type": "code",
   "execution_count": 3,
   "metadata": {},
   "outputs": [],
   "source": [
    "tfidvect = TfidfVectorizer(max_features=5000)\n",
    "tfidvect.fit(df['final_text'])\n",
    "train_x_tfidf = tfidvect.transform(train_x)\n",
    "test_x_tfidf = tfidvect.transform(test_x)"
   ]
  },
  {
   "cell_type": "code",
   "execution_count": 4,
   "metadata": {},
   "outputs": [
    {
     "data": {
      "text/plain": [
       "0.8873"
      ]
     },
     "execution_count": 4,
     "metadata": {},
     "output_type": "execute_result"
    }
   ],
   "source": [
    "model = svm.SVC()\n",
    "model.fit(train_x_tfidf, train_y)\n",
    "pred = model.predict(test_x_tfidf)\n",
    "accuracy_score(pred, test_y)"
   ]
  },
  {
   "cell_type": "code",
   "execution_count": 6,
   "metadata": {},
   "outputs": [
    {
     "data": {
      "text/plain": [
       "<AxesSubplot:>"
      ]
     },
     "execution_count": 6,
     "metadata": {},
     "output_type": "execute_result"
    },
    {
     "data": {
      "image/png": "[encoded data removed]",
      "text/plain": [
       "<Figure size 640x480 with 2 Axes>"
      ]
     },
     "metadata": {},
     "output_type": "display_data"
    }
   ],
   "source": [
    "from sklearn.metrics import confusion_matrix\n",
    "import seaborn as sns\n",
    "import numpy as np\n",
    "\n",
    "cm = confusion_matrix(pred, test_y)\n",
    "sns.heatmap(cm/np.sum(cm), annot=True, fmt='0.2%')"
   ]
  },
  {
   "cell_type": "code",
   "execution_count": 8,
   "metadata": {},
   "outputs": [
    {
     "data": {
      "text/plain": [
       "(283, 217)"
      ]
     },
     "execution_count": 8,
     "metadata": {},
     "output_type": "execute_result"
    }
   ],
   "source": [
    "import tweepy\n",
    "import config\n",
    "import re\n",
    "\n",
    "consumer_key = config.api_key\n",
    "consumer_secret = config.api_secrets\n",
    "access_token = config.access_token\n",
    "access_token_secret = config.access_secret\n",
    "bearer_token = config.bearer_token\n",
    "\n",
    "try:\n",
    "    api = tweepy.Client(bearer_token=bearer_token)\n",
    "except:\n",
    "    print(\"Error: Authentication Failed\")\n",
    "\n",
    "def clean_text(text):\n",
    "     return ' '.join(re.sub(\"(@[A-Za-z0-9]+)|([^0-9A-Za-z \\t])(\\w+:\\/\\/\\S+)\", \" \", text).split())   \n",
    "\n",
    "tweets = tweepy.Paginator(api.search_recent_tweets , \"Donald Trump\", max_results = 100).flatten(limit=500)\n",
    "    \n",
    "def count(list):\n",
    "    positive_count = 0\n",
    "    negative_count = 0\n",
    "    for line in list:\n",
    "        if model.predict(tfidvect.transform([clean_text(line.text)])) == 'negative':\n",
    "            negative_count += 1\n",
    "        elif model.predict(tfidvect.transform([clean_text(line.text)])) == 'positive':\n",
    "            positive_count += 1\n",
    "\n",
    "    return positive_count, negative_count\n",
    "\n",
    "count(tweets)\n",
    "#comment change"
   ]
  }
 ],
 "metadata": {
  "kernelspec": {
   "display_name": "Python 3.10.6 64-bit",
   "language": "python",
   "name": "python3"
  },
  "language_info": {
   "codemirror_mode": {
    "name": "ipython",
    "version": 3
   },
   "file_extension": ".py",
   "mimetype": "text/x-python",
   "name": "python",
   "nbconvert_exporter": "python",
   "pygments_lexer": "ipython3",
   "version": "3.10.6"
  },
  "orig_nbformat": 4,
  "vscode": {
   "interpreter": {
    "hash": "a8930fd93c0d0e39a0d4d9dd43e222c1e36af1b68c0e251fae90799f6ab1738d"
   }
  }
 },
 "nbformat": 4,
 "nbformat_minor": 2
}

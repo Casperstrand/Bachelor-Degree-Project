{
 "cells": [
  {
   "cell_type": "code",
   "execution_count": null,
   "metadata": {},
   "outputs": [],
   "source": [
    "from twitter_connection import twitterConnection\n",
    "\n",
    "conn = twitterConnection()\n",
    "\n",
    "for x in conn.search('trump', 'en'):\n",
    "    print(x)"
   ]
  },
  {
   "cell_type": "code",
   "execution_count": 6,
   "metadata": {},
   "outputs": [],
   "source": [
    "\n",
    "\n",
    "\n",
    "english = pickle.load(open('English_Model.pkl', 'rb'))\n"
   ]
  },
  {
   "cell_type": "code",
   "execution_count": 2,
   "metadata": {},
   "outputs": [],
   "source": [
    "import pickle\n",
    "from english_model import EnglishModel\n",
    "\n",
    "english = EnglishModel()\n",
    "\n",
    "pickle.dump(english, open('English_Model.pkl', 'wb'))"
   ]
  },
  {
   "cell_type": "code",
   "execution_count": 1,
   "metadata": {},
   "outputs": [],
   "source": [
    "import pickle\n",
    "from norwegian_model import NorwegianModel\n",
    "\n",
    "norwegian = NorwegianModel()\n",
    "\n",
    "pickle.dump(norwegian, open('Norwegian_Model.pkl', 'wb'))"
   ]
  },
  {
   "cell_type": "code",
   "execution_count": 2,
   "metadata": {},
   "outputs": [
    {
     "data": {
      "text/plain": [
       "'Hola'"
      ]
     },
     "execution_count": 2,
     "metadata": {},
     "output_type": "execute_result"
    }
   ],
   "source": [
    "import translate\n",
    "\n",
    "translate.translate_text('hello', 'es')"
   ]
  },
  {
   "cell_type": "code",
   "execution_count": 9,
   "metadata": {},
   "outputs": [
    {
     "data": {
      "text/plain": [
       "(775, 224)"
      ]
     },
     "execution_count": 9,
     "metadata": {},
     "output_type": "execute_result"
    }
   ],
   "source": [
    "from twitter_connection import twitterConnection\n",
    "\n",
    "conn = twitterConnection()\n",
    "def translated_search(term, lang, target_lang):\n",
    "        positive_count = 0\n",
    "        negative_count = 0\n",
    "        list = conn.search(term, lang)\n",
    "        for line in list:\n",
    "            if english.model.model.predict(english.model.tfidvect.transform([translate.translate_text(text=line.text,target=target_lang)])) == 'negative':\n",
    "                negative_count += 1\n",
    "            elif english.model.model.predict(english.model.tfidvect.transform([translate.translate_text(text=line.text,target=target_lang)])) == 'positive':\n",
    "                positive_count += 1\n",
    "\n",
    "        return positive_count, negative_count\n",
    "\n",
    "translated_search('trump','de','en')"
   ]
  },
  {
   "cell_type": "code",
   "execution_count": 10,
   "metadata": {},
   "outputs": [
    {
     "data": {
      "text/plain": [
       "(776, 223)"
      ]
     },
     "execution_count": 10,
     "metadata": {},
     "output_type": "execute_result"
    }
   ],
   "source": [
    "english.translated_search('trump', 'de')"
   ]
  }
 ],
 "metadata": {
  "kernelspec": {
   "display_name": "Python 3",
   "language": "python",
   "name": "python3"
  },
  "language_info": {
   "codemirror_mode": {
    "name": "ipython",
    "version": 3
   },
   "file_extension": ".py",
   "mimetype": "text/x-python",
   "name": "python",
   "nbconvert_exporter": "python",
   "pygments_lexer": "ipython3",
   "version": "3.10.6"
  },
  "orig_nbformat": 4
 },
 "nbformat": 4,
 "nbformat_minor": 2
}
